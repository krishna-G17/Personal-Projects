{
 "cells": [
  {
   "cell_type": "code",
   "execution_count": 1,
   "metadata": {},
   "outputs": [],
   "source": [
    "# List of words to pair with products\n",
    "words =  ['buy','prices']\n",
    "\n",
    "# Print list of words\n",
    "# ... YOUR CODE FOR TASK 1 ..."
   ]
  },
  {
   "cell_type": "markdown",
   "metadata": {},
   "source": []
  },
  {
   "cell_type": "code",
   "execution_count": 2,
   "metadata": {},
   "outputs": [
    {
     "name": "stdout",
     "output_type": "stream",
     "text": [
      "[['sofas', 'sofas buy'],\n",
      " ['sofas', 'buy sofas'],\n",
      " ['sofas', 'sofas prices'],\n",
      " ['sofas', 'prices sofas'],\n",
      " ['convertible sofas', 'convertible sofas buy'],\n",
      " ['convertible sofas', 'buy convertible sofas'],\n",
      " ['convertible sofas', 'convertible sofas prices'],\n",
      " ['convertible sofas', 'prices convertible sofas'],\n",
      " ['love seats', 'love seats buy'],\n",
      " ['love seats', 'buy love seats'],\n",
      " ['love seats', 'love seats prices'],\n",
      " ['love seats', 'prices love seats'],\n",
      " ['recliners', 'recliners buy'],\n",
      " ['recliners', 'buy recliners'],\n",
      " ['recliners', 'recliners prices'],\n",
      " ['recliners', 'prices recliners'],\n",
      " ['sofa beds', 'sofa beds buy'],\n",
      " ['sofa beds', 'buy sofa beds'],\n",
      " ['sofa beds', 'sofa beds prices'],\n",
      " ['sofa beds', 'prices sofa beds']]\n"
     ]
    }
   ],
   "source": [
    "products = ['sofas', 'convertible sofas', 'love seats', 'recliners', 'sofa beds']\n",
    "\n",
    "# Create an empty list\n",
    "keywords_list = []\n",
    "\n",
    "# Loop through products\n",
    "for product in products:\n",
    "    # Loop through words\n",
    "    for word in words:\n",
    "        # Append combinations\n",
    "        keywords_list.append([product, product + ' ' + word])\n",
    "        keywords_list.append([product, word + ' ' + product])\n",
    "        \n",
    "# Inspect keyword list\n",
    "from pprint import pprint\n",
    "pprint(keywords_list)"
   ]
  },
  {
   "cell_type": "code",
   "execution_count": 3,
   "metadata": {},
   "outputs": [
    {
     "data": {
      "text/html": [
       "<div>\n",
       "<style scoped>\n",
       "    .dataframe tbody tr th:only-of-type {\n",
       "        vertical-align: middle;\n",
       "    }\n",
       "\n",
       "    .dataframe tbody tr th {\n",
       "        vertical-align: top;\n",
       "    }\n",
       "\n",
       "    .dataframe thead th {\n",
       "        text-align: right;\n",
       "    }\n",
       "</style>\n",
       "<table border=\"1\" class=\"dataframe\">\n",
       "  <thead>\n",
       "    <tr style=\"text-align: right;\">\n",
       "      <th></th>\n",
       "      <th>0</th>\n",
       "      <th>1</th>\n",
       "    </tr>\n",
       "  </thead>\n",
       "  <tbody>\n",
       "    <tr>\n",
       "      <th>0</th>\n",
       "      <td>sofas</td>\n",
       "      <td>sofas buy</td>\n",
       "    </tr>\n",
       "    <tr>\n",
       "      <th>1</th>\n",
       "      <td>sofas</td>\n",
       "      <td>buy sofas</td>\n",
       "    </tr>\n",
       "    <tr>\n",
       "      <th>2</th>\n",
       "      <td>sofas</td>\n",
       "      <td>sofas prices</td>\n",
       "    </tr>\n",
       "    <tr>\n",
       "      <th>3</th>\n",
       "      <td>sofas</td>\n",
       "      <td>prices sofas</td>\n",
       "    </tr>\n",
       "    <tr>\n",
       "      <th>4</th>\n",
       "      <td>convertible sofas</td>\n",
       "      <td>convertible sofas buy</td>\n",
       "    </tr>\n",
       "  </tbody>\n",
       "</table>\n",
       "</div>"
      ],
      "text/plain": [
       "                   0                      1\n",
       "0              sofas              sofas buy\n",
       "1              sofas              buy sofas\n",
       "2              sofas           sofas prices\n",
       "3              sofas           prices sofas\n",
       "4  convertible sofas  convertible sofas buy"
      ]
     },
     "execution_count": 3,
     "metadata": {},
     "output_type": "execute_result"
    }
   ],
   "source": [
    "# Load library\n",
    "import pandas as pd\n",
    "# ... YOUR CODE FOR TASK 3 ...\n",
    "\n",
    "# Create a DataFrame from list\n",
    "keywords_df = pd.DataFrame(keywords_list)\n",
    "\n",
    "# Print the keywords DataFrame to explore it\n",
    "keywords_df.head()\n",
    "# ... YOUR CODE FOR TASK 3 ..."
   ]
  },
  {
   "cell_type": "code",
   "execution_count": 5,
   "metadata": {},
   "outputs": [],
   "source": [
    "# Rename the columns of the DataFrame\n",
    "keywords_df = keywords_df.rename(columns = {0: 'Adwords',1:'keyword'})"
   ]
  },
  {
   "cell_type": "code",
   "execution_count": 6,
   "metadata": {},
   "outputs": [
    {
     "data": {
      "text/html": [
       "<div>\n",
       "<style scoped>\n",
       "    .dataframe tbody tr th:only-of-type {\n",
       "        vertical-align: middle;\n",
       "    }\n",
       "\n",
       "    .dataframe tbody tr th {\n",
       "        vertical-align: top;\n",
       "    }\n",
       "\n",
       "    .dataframe thead th {\n",
       "        text-align: right;\n",
       "    }\n",
       "</style>\n",
       "<table border=\"1\" class=\"dataframe\">\n",
       "  <thead>\n",
       "    <tr style=\"text-align: right;\">\n",
       "      <th></th>\n",
       "      <th>Adwords</th>\n",
       "      <th>keyword</th>\n",
       "    </tr>\n",
       "  </thead>\n",
       "  <tbody>\n",
       "    <tr>\n",
       "      <th>0</th>\n",
       "      <td>sofas</td>\n",
       "      <td>sofas buy</td>\n",
       "    </tr>\n",
       "    <tr>\n",
       "      <th>1</th>\n",
       "      <td>sofas</td>\n",
       "      <td>buy sofas</td>\n",
       "    </tr>\n",
       "    <tr>\n",
       "      <th>2</th>\n",
       "      <td>sofas</td>\n",
       "      <td>sofas prices</td>\n",
       "    </tr>\n",
       "    <tr>\n",
       "      <th>3</th>\n",
       "      <td>sofas</td>\n",
       "      <td>prices sofas</td>\n",
       "    </tr>\n",
       "    <tr>\n",
       "      <th>4</th>\n",
       "      <td>convertible sofas</td>\n",
       "      <td>convertible sofas buy</td>\n",
       "    </tr>\n",
       "  </tbody>\n",
       "</table>\n",
       "</div>"
      ],
      "text/plain": [
       "             Adwords                keyword\n",
       "0              sofas              sofas buy\n",
       "1              sofas              buy sofas\n",
       "2              sofas           sofas prices\n",
       "3              sofas           prices sofas\n",
       "4  convertible sofas  convertible sofas buy"
      ]
     },
     "execution_count": 6,
     "metadata": {},
     "output_type": "execute_result"
    }
   ],
   "source": [
    "keywords_df.head()"
   ]
  },
  {
   "cell_type": "code",
   "execution_count": null,
   "metadata": {},
   "outputs": [],
   "source": []
  }
 ],
 "metadata": {
  "kernelspec": {
   "display_name": "Python 3",
   "language": "python",
   "name": "python3"
  },
  "language_info": {
   "codemirror_mode": {
    "name": "ipython",
    "version": 3
   },
   "file_extension": ".py",
   "mimetype": "text/x-python",
   "name": "python",
   "nbconvert_exporter": "python",
   "pygments_lexer": "ipython3",
   "version": "3.8.3"
  }
 },
 "nbformat": 4,
 "nbformat_minor": 4
}
