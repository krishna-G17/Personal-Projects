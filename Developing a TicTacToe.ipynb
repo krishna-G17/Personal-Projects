{
 "cells": [
  {
   "cell_type": "code",
   "execution_count": null,
   "metadata": {},
   "outputs": [],
   "source": [
    "#sentdex python tutorials\n",
    "import itertools"
   ]
  },
  {
   "cell_type": "code",
   "execution_count": 1,
   "metadata": {},
   "outputs": [],
   "source": [
    "prog_languages = \"python\" ,\" java\""
   ]
  },
  {
   "cell_type": "code",
   "execution_count": 2,
   "metadata": {},
   "outputs": [
    {
     "name": "stdout",
     "output_type": "stream",
     "text": [
      "<class 'tuple'>\n"
     ]
    }
   ],
   "source": [
    "print(type(prog_languages))"
   ]
  },
  {
   "cell_type": "code",
   "execution_count": null,
   "metadata": {},
   "outputs": [],
   "source": [
    "#we can use the () for creating a tuple"
   ]
  },
  {
   "cell_type": "code",
   "execution_count": 3,
   "metadata": {},
   "outputs": [
    {
     "name": "stdout",
     "output_type": "stream",
     "text": [
      "python\n",
      " java\n"
     ]
    }
   ],
   "source": [
    "for language in prog_languages:\n",
    "    print(language)"
   ]
  },
  {
   "cell_type": "code",
   "execution_count": null,
   "metadata": {},
   "outputs": [],
   "source": [
    "#tuples are immutable cannot change and update them"
   ]
  },
  {
   "cell_type": "code",
   "execution_count": null,
   "metadata": {},
   "outputs": [],
   "source": [
    "#Tictactoe game building "
   ]
  },
  {
   "cell_type": "code",
   "execution_count": 9,
   "metadata": {},
   "outputs": [
    {
     "name": "stdout",
     "output_type": "stream",
     "text": [
      "[[0, 0, 0], [0, 0, 0], [0, 0, 0]]\n",
      "[0, 0, 0]\n",
      "[0, 0, 0]\n",
      "[0, 0, 0]\n"
     ]
    }
   ],
   "source": [
    "game= [[0, 0, 0],\n",
    "       [0, 0, 0],\n",
    "       [0, 0, 0]]\n",
    "\n",
    "\n",
    "for row in game:\n",
    "    print(row)"
   ]
  },
  {
   "cell_type": "code",
   "execution_count": 17,
   "metadata": {},
   "outputs": [
    {
     "name": "stdout",
     "output_type": "stream",
     "text": [
      "   a  b  c\n",
      "0 [0, 0, 0]\n",
      "1 [0, 0, 0]\n",
      "2 [0, 0, 0]\n"
     ]
    }
   ],
   "source": [
    "#Built-In functions in python\n",
    "game= [[0, 0, 0],\n",
    "       [0, 0, 0],\n",
    "       [0, 0, 0]]\n",
    "\n",
    "print(\"   a  b  c\")\n",
    "for count,row in enumerate(game):\n",
    "    print(count,row)\n",
    "    "
   ]
  },
  {
   "cell_type": "code",
   "execution_count": 23,
   "metadata": {},
   "outputs": [
    {
     "name": "stdout",
     "output_type": "stream",
     "text": [
      "5\n",
      "[2, 3]\n",
      "[1, 99, 3, 4, 5]\n"
     ]
    }
   ],
   "source": [
    "l=[1,2,3,4,5]\n",
    "print(l[-1])\n",
    "print(l[1:3])\n",
    "l[1]=99\n",
    "print(l)"
   ]
  },
  {
   "cell_type": "code",
   "execution_count": 27,
   "metadata": {},
   "outputs": [
    {
     "name": "stdout",
     "output_type": "stream",
     "text": [
      "   a  b  c\n",
      "0 [0, 0, 0]\n",
      "1 [0, 0, 0]\n",
      "2 [0, 0, 0]\n",
      "   a  b  c\n",
      "0 [0, 1, 0]\n",
      "1 [0, 0, 0]\n",
      "2 [0, 0, 0]\n"
     ]
    }
   ],
   "source": [
    "# tic tac toe \n",
    "game= [[0, 0, 0],\n",
    "       [0, 0, 0],\n",
    "       [0, 0, 0]]\n",
    "print(\"   a  b  c\")\n",
    "for count,row in enumerate(game):\n",
    "    print(count,row)\n",
    "\n",
    "game[0][1] = 1\n",
    "\n",
    "print(\"   a  b  c\")\n",
    "for count,row in enumerate(game):\n",
    "    print(count,row)"
   ]
  },
  {
   "cell_type": "code",
   "execution_count": null,
   "metadata": {},
   "outputs": [],
   "source": [
    "# in the above if we want to display the gameboard we need to print the lower block evrytime.\n",
    "# to avoid it we start using functions"
   ]
  },
  {
   "cell_type": "code",
   "execution_count": 29,
   "metadata": {},
   "outputs": [
    {
     "name": "stdout",
     "output_type": "stream",
     "text": [
      "   a  b  c\n",
      "0 [0, 0, 0]\n",
      "1 [0, 0, 0]\n",
      "2 [0, 0, 0]\n",
      "   a  b  c\n",
      "0 [0, 1, 0]\n",
      "1 [0, 0, 0]\n",
      "2 [0, 0, 0]\n"
     ]
    }
   ],
   "source": [
    " def game_board():\n",
    "        print(\"   a  b  c\")\n",
    "        for count,row in enumerate(game):\n",
    "            print(count,row)\n",
    "            \n",
    "# tic tac toe \n",
    "game= [[0, 0, 0],\n",
    "       [0, 0, 0],\n",
    "       [0, 0, 0]]\n",
    "x= game_board\n",
    "x()\n",
    "\n",
    "game[0][1] = 1\n",
    "\n",
    "game_board()"
   ]
  },
  {
   "cell_type": "code",
   "execution_count": null,
   "metadata": {},
   "outputs": [],
   "source": [
    " # functions parameteres and typing\n",
    "# python considers dynaic typing where no need to specify the datatypes whihc is boon and curse\n"
   ]
  },
  {
   "cell_type": "code",
   "execution_count": 31,
   "metadata": {},
   "outputs": [
    {
     "name": "stdout",
     "output_type": "stream",
     "text": [
      "   a  b  c\n",
      "0 [0, 0, 0]\n",
      "1 [0, 0, 0]\n",
      "2 [0, 0, 0]\n",
      "   a  b  c\n",
      "0 [0, 0, 0]\n",
      "1 [0, 0, 0]\n",
      "2 [1, 0, 0]\n"
     ]
    }
   ],
   "source": [
    " def game_board(player=0,row=0,column=0,just_display=False):\n",
    "        print(\"   a  b  c\")\n",
    "        if not just_display:\n",
    "            game[row][column]=player\n",
    "        for count,row in enumerate(game):\n",
    "            print(count,row)\n",
    "            \n",
    "# tic tac toe \n",
    "game= [[0, 0, 0],\n",
    "       [0, 0, 0],\n",
    "       [0, 0, 0]]\n",
    "game_board(just_display=True)\n",
    "\n",
    "#game[0][1] = 1\n",
    "\n",
    "game_board(1,2,0)"
   ]
  },
  {
   "cell_type": "code",
   "execution_count": null,
   "metadata": {},
   "outputs": [],
   "source": [
    "# mutability revisited & Error Handling"
   ]
  },
  {
   "cell_type": "code",
   "execution_count": 45,
   "metadata": {},
   "outputs": [
    {
     "name": "stdout",
     "output_type": "stream",
     "text": [
      "   a  b  c\n",
      "0 [0, 0, 0]\n",
      "1 [0, 0, 0]\n",
      "2 [0, 0, 0]\n",
      "   a  b  c\n",
      "Did you input row and col valies correctly:  list index out of range\n"
     ]
    }
   ],
   "source": [
    " def game_board(game_map,player=0,row=0,column=0,just_display=False):\n",
    "        try:\n",
    "            print(\"   a  b  c\")\n",
    "            if not just_display:\n",
    "                game_map[row][column]=player\n",
    "            for count,row in enumerate(game_map):\n",
    "                print(count,row)\n",
    "            return game_map\n",
    "        except IndexError as e:\n",
    "            print(\"Did you input row and col valies correctly: \",e)\n",
    "     \n",
    "    '''  except Exception as e:\n",
    "            print (\"Want to see all the exceptions: \",e)\n",
    "            \n",
    "        else:\n",
    "            \n",
    "        finally:\n",
    "            # we this ones at conection errors and random mis stream errors\n",
    "            \n",
    "         '''   \n",
    "            \n",
    "# tic tac toe \n",
    "game= [[0, 0, 0],\n",
    "       [0, 0, 0],\n",
    "       [0, 0, 0]]\n",
    "game = game_board(game,just_display=True)\n",
    "\n",
    "#game[0][1] = 1\n",
    "\n",
    "game=game_board(game,1,3,0)"
   ]
  },
  {
   "cell_type": "code",
   "execution_count": null,
   "metadata": {},
   "outputs": [],
   "source": [
    "# working on the game\n",
    "# determining the game winner \n",
    "# winning options : horizantally, vertically , diagonally"
   ]
  },
  {
   "cell_type": "code",
   "execution_count": 48,
   "metadata": {},
   "outputs": [
    {
     "name": "stdout",
     "output_type": "stream",
     "text": [
      "[1, 0, 0]\n",
      "[0, 0, 0]\n",
      "[2, 0, 0]\n"
     ]
    }
   ],
   "source": [
    "# determining horizantal winner\n",
    "game= [[1, 0, 0],\n",
    "       [0, 0, 0],\n",
    "       [2, 0, 0]]\n",
    "\n",
    "def win(current_game):\n",
    "       for row in current_game:\n",
    "            print(row)\n",
    "            if row.count(row[0])==len(row) and row[0]!= 0:\n",
    "                print(\"winner!\")\n",
    "                \n",
    "win(game)\n",
    "                "
   ]
  },
  {
   "cell_type": "code",
   "execution_count": 54,
   "metadata": {},
   "outputs": [],
   "source": [
    "# vertical winner:\n",
    "\n",
    "game= [[1, 0, 0],\n",
    "       [0, 0, 0],\n",
    "       [2, 0, 0]]\n",
    "\n",
    "\n",
    "for col in range(len(game)):\n",
    "    check=[]\n",
    "    for row in game:\n",
    "        check.append(row[col])\n",
    "    if check.count(check[0])==len(check) and check[0]!= 0:\n",
    "        print(\"winner!\")"
   ]
  },
  {
   "cell_type": "code",
   "execution_count": 57,
   "metadata": {},
   "outputs": [
    {
     "name": "stdout",
     "output_type": "stream",
     "text": [
      "winner\n"
     ]
    }
   ],
   "source": [
    "# determining diagonal winner route\n",
    "game= [[1, 0, 2],\n",
    "       [0, 2, 0],\n",
    "       [2, 0, 1]]\n",
    "\n",
    "diags=[]\n",
    "# zip fucntion ties up the linked objects and displays toegther\n",
    "\n",
    "for col,row in enumerate(reversed(range(len(game)))):\n",
    "    diags.append(game[row][col])\n",
    "    \n",
    "\n",
    "diag=[]\n",
    "for ix in range(len(game)):\n",
    "    diags.append(game[ix][ix]) \n",
    "  "
   ]
  },
  {
   "cell_type": "code",
   "execution_count": null,
   "metadata": {},
   "outputs": [
    {
     "name": "stdout",
     "output_type": "stream",
     "text": [
      "   a  b  c\n",
      "0 [0, 0, 0]\n",
      "1 [0, 0, 0]\n",
      "2 [0, 0, 0]\n",
      "What column do you want to play(0,1,2): 1\n",
      "What row do you want to play(0,1,2): 2\n",
      "   a  b  c\n",
      "0 [0, 0, 0]\n",
      "1 [0, 0, 0]\n",
      "2 [0, 1, 0]\n"
     ]
    }
   ],
   "source": [
    "# bringing everything together\n",
    "\n",
    "def game_board(game_map,player=0,row=0,column=0,just_display=False):\n",
    "    try:\n",
    "        if game_map[row][column]!=0:\n",
    "            print(\"This position is occupado!! chose another\")\n",
    "            return game_map, False\n",
    "        print(\"   a  b  c\")\n",
    "        if not just_display:\n",
    "            game_map[row][column]=player\n",
    "        for count,row in enumerate(game_map):\n",
    "            print(count,row)\n",
    "        return game_map,True\n",
    "    except IndexError as e:\n",
    "        print(\"Did you input row and col valies correctly: \",e)\n",
    "        return game_map,False\n",
    "    \n",
    "    except Exception as e:\n",
    "        print (\"Want to see all the exceptions: \",e)\n",
    "        return game_map,False\n",
    "        \n",
    "        '''\n",
    "            else:\n",
    "\n",
    "            finally:\n",
    "                # we this ones at conection errors and random mis stream errors\n",
    "\n",
    "             '''  \n",
    "        \n",
    "        \n",
    "play=True\n",
    "players=[1,2]\n",
    "while play:     \n",
    "    # tic tac toe \n",
    "    game= [[0, 0, 0],\n",
    "           [0, 0, 0],\n",
    "           [0, 0, 0]]\n",
    "\n",
    "    game,_ = game_board(game,just_display=True)\n",
    "    game_won=False\n",
    "    player_choice=intertools.cycle([1,2])\n",
    "    while not game_won:\n",
    "        current_player=next(player_choice)\n",
    "        print(f\"Current Player: {current_player}\")\n",
    "        played=False\n",
    "        while not played:\n",
    "            column_choice=int(input(\"What column do you want to play(0,1,2): \"))\n",
    "            row_choice=int(input(\"What row do you want to play(0,1,2): \"))\n",
    "            game,played = game_board(game,current_player,row_choice,column_choice)\n",
    "        \n",
    "        if win(game):\n",
    "            game_won=True\n",
    "            again=input(\"The game is over , would yu like to play again? (y/n) \")\n",
    "            if again.lower()==\"y\":\n",
    "                print(\"restarting\")\n",
    "            elif again.lower()==\"n\":\n",
    "                print(\"Byee\")\n",
    "                play=False\n",
    "            else:\n",
    "                print(\"Not a valid answer\")\n",
    "                play=False\n",
    " \n",
    "\n",
    "\n",
    "\n",
    "\n"
   ]
  },
  {
   "cell_type": "code",
   "execution_count": null,
   "metadata": {},
   "outputs": [],
   "source": [
    "\n",
    "def win(current_game):\n",
    "    \n",
    "    def all_same(l):\n",
    "        if l.count(l[0])==len(l) and l[0]!=0:\n",
    "            return True\n",
    "        else:\n",
    "            return False\n",
    "        \n",
    "    \n",
    "    for row in current_game:\n",
    "        print(row)\n",
    "        if all_same(row):\n",
    "            print(f\"player {row[0]} is the winner horizantally!\")\n",
    "            return True\n",
    "                \n",
    "    diags=[]\n",
    "    # zip fucntion ties up the linked objects and displays toegther\n",
    "\n",
    "    for col,row in enumerate(reversed(range(len(game)))):\n",
    "        diags.append(game[row][col])\n",
    "        if all_same(diags):\n",
    "            print(f\"player {diags[0]} is the winner diagonally!(/)\")\n",
    "            return True\n",
    "\n",
    "\n",
    "    diags=[]\n",
    "    for ix in range(len(game)):\n",
    "        diags.append(game[ix][ix])\n",
    "        if all_same(diags):\n",
    "            print(f\"player {diags[0]} is the winner diagonally!(\\\\)\")\n",
    "            return True\n",
    "\n",
    "    for col in range(len(game)):\n",
    "        check=[]\n",
    "        for row in game:\n",
    "            check.append(row[col])\n",
    "        if all_same(check):\n",
    "            print(f\"player {check[0]} is the winner vertically!(|)\")\n",
    "            return True\n",
    "    return False           \n",
    "                \n",
    "                \n",
    "win(game)\n",
    "             "
   ]
  },
  {
   "cell_type": "code",
   "execution_count": null,
   "metadata": {},
   "outputs": [],
   "source": [
    "import itertools\n",
    "\n",
    "\n",
    "def win(current_game):\n",
    "    \n",
    "    def all_same(l):\n",
    "        if l.count(l[0])==len(l) and l[0]!=0:\n",
    "            return True\n",
    "        else:\n",
    "            return False\n",
    "        \n",
    "    \n",
    "    for row in game:\n",
    "        print(row)\n",
    "        if all_same(row):\n",
    "            print(f\"player {row[0]} is the winner horizantally!\")\n",
    "            return True\n",
    "                \n",
    "    diags=[]\n",
    "    # zip fucntion ties up the linked objects and displays toegther\n",
    "\n",
    "    for col,row in enumerate(reversed(range(len(game)))):\n",
    "        diags.append(game[row][col])\n",
    "        if all_same(diags):\n",
    "            print(f\"player {diags[0]} is the winner diagonally!(/)\")\n",
    "            return True\n",
    "\n",
    "\n",
    "    diags=[]\n",
    "    for ix in range(len(game)):\n",
    "        diags.append(game[ix][ix])\n",
    "    if all_same(diags):\n",
    "        print(f\"player {diags[0]} is the winner diagonally!(\\\\)\")\n",
    "        return True\n",
    "\n",
    "    for col in range(len(game)):\n",
    "        check=[]\n",
    "        for row in game:\n",
    "            check.append(row[col])\n",
    "        if all_same(check):\n",
    "            print(f\"player {check[0]} is the winner vertically!(|)\")\n",
    "            return True\n",
    "    return False           \n",
    "                \n",
    "\n",
    "def game_board(game_map,player=0,row=0,column=0,just_display=False):\n",
    "    try:\n",
    "        if game_map[row][column]!=0:\n",
    "            print(\"This position is occupado!! chose another\")\n",
    "            return game_map, False\n",
    "        print(\"   \"+\"  \".join([str(i) for i in  range(len(game_map))]))\n",
    "        if not just_display:\n",
    "            game_map[row][column]=player\n",
    "        for count,row in enumerate(game_map):\n",
    "            print(count,row)\n",
    "        return game_map,True\n",
    "    except IndexError as e:\n",
    "        print(\"Did you input row and col valies correctly: \",e)\n",
    "        return game_map,False\n",
    "    \n",
    "    except Exception as e:\n",
    "        print (\"Want to see all the exceptions: \",e)\n",
    "        return game_map,False\n",
    "        \n",
    "        '''\n",
    "            else:\n",
    "\n",
    "            finally:\n",
    "                # we this ones at conection errors and random mis stream errors\n",
    "\n",
    "             '''  \n",
    "        \n",
    "play=True\n",
    "players=[1,2]\n",
    "while play:     \n",
    "    # tic tac toe \n",
    "    game= [[0, 0, 0],\n",
    "           [0, 0, 0],\n",
    "           [0, 0, 0]]\n",
    "\n",
    "    game_won=False\n",
    "    game,_ = game_board(game,just_display=True)\n",
    "    player_choice=itertools.cycle([1,2])\n",
    "    while not game_won:\n",
    "        current_player=next(player_choice)\n",
    "        print(f\"Current Player: {current_player}\")\n",
    "        played=False\n",
    "        while not played:\n",
    "            column_choice=int(input(\"What column do you want to play(0,1,2): \"))\n",
    "            row_choice=int(input(\"What row do you want to play(0,1,2): \"))\n",
    "            game,played = game_board(game,current_player,row_choice,column_choice)\n",
    "        \n",
    "        if win(game):\n",
    "            game_won=True\n",
    "            again=input(\"The game is over , would yu like to play again? (y/n) \")\n",
    "            if again.lower()==\"y\":\n",
    "                print(\"restarting\")\n",
    "            elif again.lower()==\"n\":\n",
    "                print(\"Byee\")\n",
    "                play=False\n",
    "            else:\n",
    "                print(\"Not a valid answer\")\n",
    "                play=False\n",
    " \n",
    "\n",
    "        "
   ]
  },
  {
   "cell_type": "code",
   "execution_count": null,
   "metadata": {},
   "outputs": [],
   "source": []
  }
 ],
 "metadata": {
  "kernelspec": {
   "display_name": "Python 3",
   "language": "python",
   "name": "python3"
  },
  "language_info": {
   "codemirror_mode": {
    "name": "ipython",
    "version": 3
   },
   "file_extension": ".py",
   "mimetype": "text/x-python",
   "name": "python",
   "nbconvert_exporter": "python",
   "pygments_lexer": "ipython3",
   "version": "3.7.6"
  }
 },
 "nbformat": 4,
 "nbformat_minor": 4
}
